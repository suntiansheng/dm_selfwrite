{
 "cells": [
  {
   "cell_type": "code",
   "execution_count": 1,
   "metadata": {},
   "outputs": [],
   "source": [
    "import math\n",
    "import numpy as np"
   ]
  },
  {
   "cell_type": "code",
   "execution_count": 2,
   "metadata": {},
   "outputs": [],
   "source": [
    "def createDataSet():\n",
    "    dataSet = [[1, 1, 'yes'], [1, 1, 'yes'], [1, 0, 'no'], [0, 1, 'no'], [0, 1, 'no']]\n",
    "    labels = ['no sufacing', 'flippers']\n",
    "    return dataSet, labels"
   ]
  },
  {
   "cell_type": "code",
   "execution_count": 3,
   "metadata": {},
   "outputs": [],
   "source": [
    "da, la = createDataSet()"
   ]
  },
  {
   "cell_type": "code",
   "execution_count": 4,
   "metadata": {},
   "outputs": [],
   "source": [
    "def entropy(da):\n",
    "    classlist = [ex[-1] for ex in da]\n",
    "    un = np.unique(classlist)\n",
    "    sh = 0\n",
    "    for value in un:\n",
    "        prob = classlist.count(value)/len(classlist)\n",
    "        sh += prob * math.log2(1 / prob)\n",
    "    return sh"
   ]
  },
  {
   "cell_type": "code",
   "execution_count": 5,
   "metadata": {},
   "outputs": [
    {
     "data": {
      "text/plain": [
       "0.9709505944546687"
      ]
     },
     "execution_count": 5,
     "metadata": {},
     "output_type": "execute_result"
    }
   ],
   "source": [
    "entropy(da)"
   ]
  },
  {
   "cell_type": "code",
   "execution_count": 6,
   "metadata": {},
   "outputs": [
    {
     "data": {
      "text/plain": [
       "[[1, 1, 'yes'], [1, 1, 'yes'], [1, 0, 'no'], [0, 1, 'no'], [0, 1, 'no']]"
      ]
     },
     "execution_count": 6,
     "metadata": {},
     "output_type": "execute_result"
    }
   ],
   "source": [
    "da"
   ]
  },
  {
   "cell_type": "code",
   "execution_count": 7,
   "metadata": {},
   "outputs": [
    {
     "data": {
      "text/plain": [
       "5"
      ]
     },
     "execution_count": 7,
     "metadata": {},
     "output_type": "execute_result"
    }
   ],
   "source": [
    "len(da)"
   ]
  },
  {
   "cell_type": "code",
   "execution_count": 8,
   "metadata": {},
   "outputs": [],
   "source": [
    "def chosebestsplit(da, la):\n",
    "    base = entropy(da)\n",
    "    bestentroy = -1\n",
    "    baselen = len(da)\n",
    "    bestfeat = -1\n",
    "    \n",
    "    for currentlabel in range(len(la)):\n",
    "        #print(currentlabel)\n",
    "        ls = [ex[currentlabel] for ex in da]\n",
    "        ls1 = [ex[-1] for ex in da]\n",
    "        ls_a = list(zip(ls, ls1))\n",
    "        #print(ls_a)\n",
    "        \n",
    "        su = [ex[0] for ex in ls_a]\n",
    "        unvalue = np.unique(su)\n",
    "        \n",
    "        #print(unvalue)\n",
    "        subentropy = 0\n",
    "        \n",
    "        for value in unvalue:\n",
    "            #print(value)\n",
    "            subda = [ex for ex in ls_a if ex[0] == value]\n",
    "            #print(subda)\n",
    "            #print(len(subda)/baselen)\n",
    "            subentropy += (len(subda)/baselen) * entropy(subda)\n",
    "        \n",
    "        \n",
    "        \n",
    "        if base - subentropy > bestentroy:\n",
    "            #print(base - subentropy)\n",
    "            bestentroy = base - subentropy\n",
    "            bestfeat = currentlabel\n",
    "    \n",
    "    return bestfeat"
   ]
  },
  {
   "cell_type": "code",
   "execution_count": 9,
   "metadata": {},
   "outputs": [],
   "source": [
    "def splitdata(da, axis, var):\n",
    "    resl = []\n",
    "    for ex in da:\n",
    "        if ex[axis] == var:\n",
    "            currentls = ex[:axis]\n",
    "            currentls.extend(ex[axis+1:])\n",
    "            resl.append(currentls)\n",
    "    return resl"
   ]
  },
  {
   "cell_type": "code",
   "execution_count": 10,
   "metadata": {},
   "outputs": [],
   "source": [
    "def majority(da):\n",
    "    classList = [ex[-1] for ex in da]\n",
    "    un = set(classList)\n",
    "    res = -1\n",
    "    resvalue = None\n",
    "    for value in un:\n",
    "        c = classList.count(value)\n",
    "        if c > res:\n",
    "            res = c\n",
    "            resvalue = value\n",
    "    return resvalue"
   ]
  },
  {
   "cell_type": "code",
   "execution_count": 11,
   "metadata": {},
   "outputs": [],
   "source": [
    "def tree(da,la):\n",
    "    classList = [ex[-1] for ex in da]\n",
    "    \n",
    "    if len(np.unique(classList)) == 1:\n",
    "        return list(np.unique(classList))\n",
    "    \n",
    "    if len(la) == 0:\n",
    "        return majority(da)\n",
    "    \n",
    "    bestfeat = chosebestsplit(da,la)\n",
    "    bestvar = la[bestfeat]\n",
    "    \n",
    "    currentdict = {bestvar:{}}\n",
    "    del(la[bestfeat])\n",
    "    \n",
    "    l = [ex[bestfeat] for ex in da]\n",
    "    un = np.unique(l)\n",
    "    \n",
    "    for value in un:\n",
    "        subtree = tree(splitdata(da, bestfeat ,value),la)\n",
    "        currentdict[bestvar][value] = subtree\n",
    "    \n",
    "    return currentdict"
   ]
  },
  {
   "cell_type": "code",
   "execution_count": 12,
   "metadata": {},
   "outputs": [
    {
     "data": {
      "text/plain": [
       "{'no sufacing': {0: ['no'], 1: {'flippers': {0: ['no'], 1: ['yes']}}}}"
      ]
     },
     "execution_count": 12,
     "metadata": {},
     "output_type": "execute_result"
    }
   ],
   "source": [
    "da,la = createDataSet()\n",
    "tree(da,la)"
   ]
  }
 ],
 "metadata": {
  "kernelspec": {
   "display_name": "Python 3",
   "language": "python",
   "name": "python3"
  },
  "language_info": {
   "codemirror_mode": {
    "name": "ipython",
    "version": 3
   },
   "file_extension": ".py",
   "mimetype": "text/x-python",
   "name": "python",
   "nbconvert_exporter": "python",
   "pygments_lexer": "ipython3",
   "version": "3.7.1"
  }
 },
 "nbformat": 4,
 "nbformat_minor": 2
}
